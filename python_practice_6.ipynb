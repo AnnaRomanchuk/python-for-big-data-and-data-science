{
  "nbformat": 4,
  "nbformat_minor": 0,
  "metadata": {
    "colab": {
      "provenance": [],
      "include_colab_link": true
    },
    "kernelspec": {
      "name": "python3",
      "display_name": "Python 3"
    },
    "language_info": {
      "name": "python"
    }
  },
  "cells": [
    {
      "cell_type": "markdown",
      "metadata": {
        "id": "view-in-github",
        "colab_type": "text"
      },
      "source": [
        "<a href=\"https://colab.research.google.com/github/AnnaRomanchuk/python-for-big-data-and-data-science/blob/main/python_practice_6.ipynb\" target=\"_parent\"><img src=\"https://colab.research.google.com/assets/colab-badge.svg\" alt=\"Open In Colab\"/></a>"
      ]
    },
    {
      "cell_type": "markdown",
      "source": [
        "# I. Docstrings."
      ],
      "metadata": {
        "id": "5qvkYXU42nND"
      }
    },
    {
      "cell_type": "markdown",
      "source": [
        "1. (2б) Що таке docstrings? Навіщо вони потрібні?"
      ],
      "metadata": {
        "id": "7VUggLjZ4NNb"
      }
    },
    {
      "cell_type": "markdown",
      "source": [
        "Docstrings - These are multiline comments used to explain code and are marked with triple quotes \"\"\" \"\"\"/ ''' '''. They are used for code documentation and can be generated directly in the comments."
      ],
      "metadata": {
        "id": "_oqTO_30GlHj"
      }
    },
    {
      "cell_type": "markdown",
      "source": [
        "2. (2б) Створіть docstrings для функції, що розраховує різницю двох цілих чисел та повертає її."
      ],
      "metadata": {
        "id": "bRumAhtgG3jV"
      }
    },
    {
      "cell_type": "code",
      "source": [
        "\"\"\"\n",
        "Args:\n",
        "  first_num(numerical): minuend\n",
        "  second_num(numerical): subtrahend\n",
        "\n",
        "Returns:\n",
        "   substraction of first_num and second_num\n",
        "\n",
        "Raises:\n",
        "  TypeError: if one of arguments is not numerical\n",
        "\n",
        "Examples:\n",
        "  >>> substract(5, 3)\n",
        "  2\n",
        "  >>> substract(\"-5\", -3)\n",
        "  TypeError\n",
        "\"\"\""
      ],
      "metadata": {
        "id": "G_xCtwQGGkew",
        "colab": {
          "base_uri": "https://localhost:8080/",
          "height": 52
        },
        "outputId": "9fa70e82-d84f-4c04-cbac-ecca5dbcafce"
      },
      "execution_count": 10,
      "outputs": [
        {
          "output_type": "execute_result",
          "data": {
            "text/plain": [
              "'\\nArgs:\\n  first_num(numerical): minuend\\n  second_num(numerical): subtrahend\\n\\nReturns:\\n   substraction of first_num and second_num\\n\\nRaises:\\n  TypeError: if one of arguments is not numerical\\n\\nExamples:\\n  >>> substract(5, 3)\\n  2\\n  >>> substract(\"-5\", -3)\\n  TypeError\\n'"
            ],
            "application/vnd.google.colaboratory.intrinsic+json": {
              "type": "string"
            }
          },
          "metadata": {},
          "execution_count": 10
        }
      ]
    },
    {
      "cell_type": "markdown",
      "source": [
        "3. (3б) Визначте функцію, що розраховує різницю двох цілих чисел та повертає її, використовуючи документацію з завдання 2."
      ],
      "metadata": {
        "id": "gibK8CjDHBfc"
      }
    },
    {
      "cell_type": "code",
      "execution_count": 9,
      "metadata": {
        "id": "wh5tMJgh0zer"
      },
      "outputs": [],
      "source": [
        "def substraction(first_num, second_num):\n",
        "      return first_num - second_num"
      ]
    },
    {
      "cell_type": "markdown",
      "source": [
        "4. (5б) Створіть docstring для функції, що перевіряє, чи є число простим. Увага: під час виклику функції ми очікуємо, що користувач(ка) може подати на вхід будь-який тип обʼєкту. У випадку, якщо на вході не підходящий тип даних, маємо кинути помилку."
      ],
      "metadata": {
        "id": "PI-mNDQNIDUm"
      }
    },
    {
      "cell_type": "code",
      "source": [
        "\"\"\"\n",
        "Args:\n",
        "  a (numeric): number to check if it is prime\n",
        "\n",
        "Returns:\n",
        "  bool: True if the number is prime and false is not prime\n",
        "\n",
        "Raises:\n",
        "  TypeError: if input is not an integer\n",
        "\n",
        "Examples:\n",
        "  >>> a_prime(3)\n",
        "  True\n",
        "  >>> a_prime(8)\n",
        "  False\n",
        "  >>> a_prime(\"ten\")\n",
        "  TypeError\n",
        "\"\"\""
      ],
      "metadata": {
        "id": "3nTbEkJ0I4Gn",
        "colab": {
          "base_uri": "https://localhost:8080/",
          "height": 52
        },
        "outputId": "3d14b3f8-0380-4043-9e7d-b6d295a6a1e3"
      },
      "execution_count": 8,
      "outputs": [
        {
          "output_type": "execute_result",
          "data": {
            "text/plain": [
              "'\\nArgs:\\n  a (numeric): number to check if it is prime\\n\\nReturns:\\n  bool: True if the number is prime and false is not prime\\n\\nRaises:\\n  TypeError: if input is not an integer\\n\\nExamples:\\n  >>> a_prime(3)\\n  True\\n  >>> a_prime(8)\\n  False\\n  >>> a_prime(\"ten\")\\n  TypeError\\n'"
            ],
            "application/vnd.google.colaboratory.intrinsic+json": {
              "type": "string"
            }
          },
          "metadata": {},
          "execution_count": 8
        }
      ]
    },
    {
      "cell_type": "markdown",
      "source": [
        "5. (7б) Визначте функцію, яка перевіряє, чи є число простим, використовуючи документацію з завдання 4."
      ],
      "metadata": {
        "id": "OMRx9emvI4NM"
      }
    },
    {
      "cell_type": "code",
      "source": [
        "def a_prime(a):\n",
        "  if not isinstance(a, int):\n",
        "    raise TypeError(\"Input must be numeric\")\n",
        "  if a < 2:\n",
        "    return False\n",
        "  for i in range(2, 2//a):\n",
        "    if a % i == 0:\n",
        "     return False\n",
        "  return True"
      ],
      "metadata": {
        "id": "wONHC4OEJARD"
      },
      "execution_count": 7,
      "outputs": []
    },
    {
      "cell_type": "markdown",
      "source": [
        "6. (6б) Створіть docstring для функції, що повертає найдовший спільний префікс двох рядків не залежно від регістру. Обовʼязково включіть два приклади згідно формату."
      ],
      "metadata": {
        "id": "1r9WQ5Y9JULV"
      }
    },
    {
      "cell_type": "code",
      "source": [
        "\"\"\"\n",
        "Args:\n",
        "  first_str (str): first string to compare\n",
        "  second_str (str): second string to compare\n",
        "\n",
        "Returns:\n",
        "  str: prefix of two values\n",
        "\n",
        "Raises:\n",
        "  TypeError: if arguments are not string\n",
        "\n",
        "Examples:\n",
        "  >>> the_prefix(\"555ui\", \"555uai\")\n",
        "  555u\n",
        "  >>> the_prefix(\"two dogs\", \"four dogs\")\n",
        "\n",
        "  >>> the_prefix(77, \"73\")\n",
        "  TypeError\n",
        "\"\"\""
      ],
      "metadata": {
        "id": "mqTHuBGsKY2V",
        "colab": {
          "base_uri": "https://localhost:8080/",
          "height": 69
        },
        "outputId": "4b03b63b-5e34-44f4-8621-64a39bbdd070"
      },
      "execution_count": 6,
      "outputs": [
        {
          "output_type": "execute_result",
          "data": {
            "text/plain": [
              "'\\nArgs:\\n  first_str (str): first string to compare\\n  second_str (str): second string to compare\\n\\nReturns:\\n  str: prefix of two values\\n\\nRaises:\\n  TypeError: if arguments are not string\\n\\nExamples:\\n  >>> the_prefix(\"555ui\", \"555uai\")\\n  555u\\n  >>> the_prefix(\"two dogs\", \"four dogs\")\\n\\n  >>> the_prefix(77, \"73\")\\n  TypeError\\n'"
            ],
            "application/vnd.google.colaboratory.intrinsic+json": {
              "type": "string"
            }
          },
          "metadata": {},
          "execution_count": 6
        }
      ]
    },
    {
      "cell_type": "markdown",
      "source": [
        "7. (9б) Реалізуйте функцію згідно документації із завдання 6, використовуючи її."
      ],
      "metadata": {
        "id": "ZVkQ4jo2KZrx"
      }
    },
    {
      "cell_type": "code",
      "source": [
        "def the_prefix(first_str, second_str):\n",
        "  if isinstance(first_str, str) or not isinstance(second_str, str):\n",
        "    raise TypeError(\"Both arguments must be strings\")\n",
        "    prefix = \"\"\n",
        "    for a, b in zip(first_str, second_str):\n",
        "        if a == b:\n",
        "            prefix += a\n",
        "        else:\n",
        "            break\n",
        "    return prefix"
      ],
      "metadata": {
        "id": "e1odBJATKd7L"
      },
      "execution_count": 5,
      "outputs": []
    },
    {
      "cell_type": "markdown",
      "source": [
        "8. (6б) Створіть docstring для функції, що розраховує суму щомісячного платежу по єОселі."
      ],
      "metadata": {
        "id": "OXbxPfuZKlQb"
      }
    },
    {
      "cell_type": "code",
      "source": [
        "\"\"\"\n",
        "Args:\n",
        "  full_price(numeric): full amount of loan\n",
        "  month_amount(numeric, optional): number of month to pay and 12 is default\n",
        "  month_rate(numeric, optional): monthly rate number and 7 is default\n",
        "  down_payment(numeric, optional): down payment amount to pay\n",
        "\n",
        "Returns:\n",
        "  float: monthly payment amount with EOselya-programm\n",
        "\n",
        "Raises:\n",
        "  TypeError: if some of args is not a numeric\n",
        "\n",
        "Examples:\n",
        "  >>> EOselyaPayment()\n",
        "  True\n",
        "  >>> EOselyaPayment()\n",
        "  False\n",
        "  >>> EOselyaPayment(\"500000\", 3)\n",
        "  TypeError\n",
        "\"\"\"\n",
        "\n",
        "\"\"\"\n",
        "Examples:\n",
        "  >>> eOselyaPayment(500000, 20, 3), 2))\n",
        "  167493.99\n",
        "  >>> eOselyaPayment(250000, 40, 3), 2))\n",
        "  13592.83\n",
        "  >>> eOselyaPayment(-100000, 7), 2))\n",
        "  All arguments must be numeric\n",
        "  >>> eOselyaPayment(\"400000\", 5), 2))\n",
        "  All arguments must be numeric. Returned 0\n",
        "\"\"\""
      ],
      "metadata": {
        "id": "iFGckfs3KqHq",
        "colab": {
          "base_uri": "https://localhost:8080/",
          "height": 52
        },
        "outputId": "c5144478-7ed3-4f11-b239-2dfd888819b1"
      },
      "execution_count": 14,
      "outputs": [
        {
          "output_type": "execute_result",
          "data": {
            "text/plain": [
              "'\\nExamples:\\n  >>> eOselyaPayment(500000, 20, 3), 2))\\n  167493.99\\n  >>> eOselyaPayment(250000, 40, 3), 2))\\n  13592.83\\n  >>> eOselyaPayment(-100000, 7), 2))\\n  All arguments must be numeric\\n  >>> eOselyaPayment(\"400000\", 5), 2))\\n  All arguments must be numeric. Returned 0\\n'"
            ],
            "application/vnd.google.colaboratory.intrinsic+json": {
              "type": "string"
            }
          },
          "metadata": {},
          "execution_count": 14
        }
      ]
    },
    {
      "cell_type": "markdown",
      "source": [
        "9. (12б) Використовуючи документацію із завдання 8, реалізуйте відповідну функцію."
      ],
      "metadata": {
        "id": "xQjsUPhAOUq1"
      }
    },
    {
      "cell_type": "code",
      "source": [
        "def EOselyaPayment(full_price, down_payment, month_amount=240, month_rate=3):\n",
        "    for arg in (full_price, down_payment, month_amount, month_rate):\n",
        "        if not isinstance(arg, (int, float)):\n",
        "            print(\"All arguments must be numeric\")\n",
        "            return 0\n",
        "\n",
        "    loan_amount = full_price - down_payment\n",
        "\n",
        "    monthly_rate = (month_rate / 100) / 12\n",
        "\n",
        "    if monthly_rate == 0:\n",
        "        monthly_payment = loan_amount / month_amount\n",
        "    else:\n",
        "        monthly_payment = loan_amount * (monthly_rate * (1 + monthly_rate) ** month_amount) / ((1 + monthly_rate) ** month_amount - 1)\n",
        "\n",
        "    return round(monthly_payment, 2)\n",
        "\n",
        "print(round(EOselyaPayment(500000, 20, 3), 2))\n",
        "print(round(EOselyaPayment(250000, 40, 3), 2))\n",
        "print(round(EOselyaPayment(-100000, 7), 2))\n",
        "print(round(EOselyaPayment(\"400000\", 5), 2))\n",
        "\n"
      ],
      "metadata": {
        "id": "H3_FpZW7OUAA",
        "colab": {
          "base_uri": "https://localhost:8080/"
        },
        "outputId": "da9b257a-2182-41e6-f4a8-d45741c57173"
      },
      "execution_count": 15,
      "outputs": [
        {
          "output_type": "stream",
          "name": "stdout",
          "text": [
            "167493.99\n",
            "83736.95\n",
            "-554.64\n",
            "All arguments must be numeric\n",
            "0\n"
          ]
        }
      ]
    },
    {
      "cell_type": "markdown",
      "source": [
        "# II. Errors and exceptions handling."
      ],
      "metadata": {
        "id": "uPyZWU1r2q-s"
      }
    },
    {
      "cell_type": "markdown",
      "source": [
        "10. (3б) Реалізуйте функцію, яка отримує значення зі словника за ключем та повертає його, а за умови відсутності ключа відловлює KeyError."
      ],
      "metadata": {
        "id": "GJAVQ9SJbARP"
      }
    },
    {
      "cell_type": "code",
      "source": [
        "def value(my_dict, key):\n",
        "  try:\n",
        "    return my_dict[key]\n",
        "  except KeyError:\n",
        "    print(f\"There is any {key} as a dictionary's key\")\n",
        "    return None"
      ],
      "metadata": {
        "id": "01YDTgxI4IK7"
      },
      "execution_count": 16,
      "outputs": []
    },
    {
      "cell_type": "markdown",
      "source": [
        "11. (3б) Реалізуйте функцію із завдання 10 без відловлювання помилки, однак за допомогою конструкції if-else."
      ],
      "metadata": {
        "id": "IwpB9_4Jbttd"
      }
    },
    {
      "cell_type": "code",
      "source": [
        "def value(my_dict, key):\n",
        "  if key in my_dict:\n",
        "    return my_dict[key]\n",
        "  else:\n",
        "    return None and print(f\"There is any {key} as a dictionary's key\")"
      ],
      "metadata": {
        "id": "qSEr1bCQbtC1"
      },
      "execution_count": 17,
      "outputs": []
    },
    {
      "cell_type": "markdown",
      "source": [
        "12. (3б) Реалізуйте функцію з завдання 10, використовуючи метод словника, який дозволяє зробити операцію навіть без if-else."
      ],
      "metadata": {
        "id": "H4iygP7xb7xB"
      }
    },
    {
      "cell_type": "code",
      "source": [
        "def value(my_dict, key):\n",
        "    return my_dict.get(key, f\"There is any {key} as a dictionary's key\")"
      ],
      "metadata": {
        "id": "IjFPCfCXcFMF"
      },
      "execution_count": 18,
      "outputs": []
    },
    {
      "cell_type": "markdown",
      "source": [
        "13. (5б) Визначте функцію, яка обробляє значення, введене користувачем з терміналу, приводячи його до цілого числа. Використайте відловлення відповідної помилки. Наприклад, людина має ввести свій вік."
      ],
      "metadata": {
        "id": "V7UB77SvcFiH"
      }
    },
    {
      "cell_type": "code",
      "source": [
        "def value_input_one():\n",
        "  try:\n",
        "    current_input = input(\"Enter your age: \")\n",
        "    return int(current_input)\n",
        "  except ValueError:\n",
        "    print(f\"{current_input} doesn't accept, must be int type\")\n"
      ],
      "metadata": {
        "id": "OEkZInsUce-g"
      },
      "execution_count": 19,
      "outputs": []
    },
    {
      "cell_type": "markdown",
      "source": [
        "14. (5б) Визначте функцію з завдання 13, де використайте конструкцію if-else замість відловдення помилки."
      ],
      "metadata": {
        "id": "nvQo1fzjcfYI"
      }
    },
    {
      "cell_type": "code",
      "source": [
        "def value_input_two():\n",
        "  current_input = input(\"Enter your age: \")\n",
        "  if current_input.isdigit():\n",
        "    return int(current_input)\n",
        "  else:\n",
        "    print(f\"{current_input} doesn't accept, must be int type\")\n",
        "    return None"
      ],
      "metadata": {
        "id": "bQF8LazacpUI"
      },
      "execution_count": 20,
      "outputs": []
    },
    {
      "cell_type": "markdown",
      "source": [
        "15. (5б) Визначте функцію з завдання 13, враховуючи додаткове обмеження, що число має бути у діапазоні від 18 до 120 (повнолітня людина). Відловіть відповідні типи помилок."
      ],
      "metadata": {
        "id": "l4RoecD_dIj5"
      }
    },
    {
      "cell_type": "code",
      "source": [
        "def value_input_three():\n",
        "  current_input = input(\"Enter your age: \")\n",
        "  try:\n",
        "    age = int(current_input)\n",
        "    if age in range(18, 121):\n",
        "      print(\"You're an adult\")\n",
        "      return age\n",
        "    else:\n",
        "      print(f\"{age} is not within the acceptable age range 18–120\")\n",
        "      raise ValueError\n",
        "  except ValueError:\n",
        "    print(f\"{current_input} doesn't accept, must be int type\")"
      ],
      "metadata": {
        "id": "SeHKtFGTdiyD"
      },
      "execution_count": 21,
      "outputs": []
    },
    {
      "cell_type": "markdown",
      "source": [
        "16. (12б) Напишіть код, який би генерував максимальну кількість помилок різного типу."
      ],
      "metadata": {
        "id": "MAn64KyreVC4"
      }
    },
    {
      "cell_type": "code",
      "source": [
        "def generate_errors():\n",
        "    try:\n",
        "        int(\"eleven\")\n",
        "    except ValueError as e:\n",
        "        print(f\"ValueError caught: {e}\")\n",
        "    try:\n",
        "      result = 10 / 0\n",
        "    except ZeroDivisionError as z:\n",
        "        print(f\"ZeroDivisionError caught: {z}\")\n",
        "    try:\n",
        "        result = \"5\" + 10\n",
        "    except TypeError as t:\n",
        "        print(f\"TypeError (string + int) caught: {t}\")\n",
        "\n",
        "generate_errors()"
      ],
      "metadata": {
        "id": "DzuV3uQpeb-U",
        "colab": {
          "base_uri": "https://localhost:8080/"
        },
        "outputId": "321b58b8-1394-43ed-f39a-9c6ead3106df"
      },
      "execution_count": 22,
      "outputs": [
        {
          "output_type": "stream",
          "name": "stdout",
          "text": [
            "ValueError caught: invalid literal for int() with base 10: 'eleven'\n",
            "ZeroDivisionError caught: division by zero\n",
            "TypeError (string + int) caught: can only concatenate str (not \"int\") to str\n"
          ]
        }
      ]
    },
    {
      "cell_type": "markdown",
      "source": [
        "17. (12б) Наскільки це можливо, виправте код із завдання 16."
      ],
      "metadata": {
        "id": "5VFbEKQkecMz"
      }
    },
    {
      "cell_type": "code",
      "source": [
        "def process_input_fixed():\n",
        "    value_one = \"eleven\"\n",
        "    if not value_one.isdigit():\n",
        "        print(f\"'{value_one}' doesn't accept, must be int type\")\n",
        "    else:\n",
        "        converted = int(value_one)\n",
        "        print(f\"Converted to int: {converted}\")\n",
        "\n",
        "    numerator = 10\n",
        "    denominator = 0\n",
        "    if denominator == 0:\n",
        "        print(\"Your second argument is 0 — division can't be done\")\n",
        "    else:\n",
        "        result_one = numerator / denominator\n",
        "        print(f\"Result of division: {result_one}\")\n",
        "\n",
        "    a = \"5\"\n",
        "    b = 10\n",
        "    if isinstance(a, str) and isinstance(b, int):\n",
        "        print(\"You can't add string and integer\")\n",
        "    else:\n",
        "        result_two = a + b\n",
        "        print(f\"Addition result: {result_two}\")\n",
        "\n",
        "process_input_fixed()"
      ],
      "metadata": {
        "id": "peMOBz9ieiur",
        "colab": {
          "base_uri": "https://localhost:8080/"
        },
        "outputId": "2f3184d0-6ac5-48f7-801b-fb0cbf911925"
      },
      "execution_count": 23,
      "outputs": [
        {
          "output_type": "stream",
          "name": "stdout",
          "text": [
            "'eleven' doesn't accept, must be int type\n",
            "Your second argument is 0 — division can't be done\n",
            "You can't add string and integer\n"
          ]
        }
      ]
    }
  ]
}