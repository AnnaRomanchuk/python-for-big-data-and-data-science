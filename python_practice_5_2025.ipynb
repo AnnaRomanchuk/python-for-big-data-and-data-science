{
  "nbformat": 4,
  "nbformat_minor": 0,
  "metadata": {
    "colab": {
      "provenance": [],
      "include_colab_link": true
    },
    "kernelspec": {
      "name": "python3",
      "display_name": "Python 3"
    },
    "language_info": {
      "name": "python"
    }
  },
  "cells": [
    {
      "cell_type": "markdown",
      "metadata": {
        "id": "view-in-github",
        "colab_type": "text"
      },
      "source": [
        "<a href=\"https://colab.research.google.com/github/AnnaRomanchuk/python-for-big-data-and-data-science/blob/main/python_practice_5_2025.ipynb\" target=\"_parent\"><img src=\"https://colab.research.google.com/assets/colab-badge.svg\" alt=\"Open In Colab\"/></a>"
      ]
    },
    {
      "cell_type": "markdown",
      "source": [
        "# I. OOP"
      ],
      "metadata": {
        "id": "5qV_sehzFCTp"
      }
    },
    {
      "cell_type": "markdown",
      "source": [
        "1. (6б). Створіть клас Building, додайте три атрибути, один з яких має значення за замовчуванням та два методи на свій розсуд."
      ],
      "metadata": {
        "id": "tx_U_hOALyfg"
      }
    },
    {
      "cell_type": "code",
      "source": [
        "class Building:\n",
        "    def __init__(self, street, lightbulbs, elevator=True):\n",
        "        self.street = street\n",
        "        self.lightbulbs = lightbulbs\n",
        "        self.elevator = elevator\n",
        "\n",
        "    def information(self):\n",
        "        elevator_status = \"been\" if self.elevator else \"not been\"\n",
        "        print(f\"The Building on {self.street} has {self.lightbulbs} lightbulbs and an elevator {elevator_status}.\")\n",
        "\n",
        "    def lightbulbs_count(self, num):\n",
        "        if num > 0:\n",
        "            self.lightbulbs += num\n",
        "            print(f\"In the building {num} lightbulbs have been changed. Now working: {self.lightbulbs} lightbulbs.\")\n",
        "        else:\n",
        "            print(\"The number of changed lightbulbs must be positive!\")\n",
        "\n",
        ""
      ],
      "metadata": {
        "id": "-Vf895KaL88N"
      },
      "execution_count": 7,
      "outputs": []
    },
    {
      "cell_type": "markdown",
      "source": [
        "2. (2б). Створіть два обʼєкти цього класу, де один з обʼєктів створюється із дефолтним значенням атрибуту. На одному обʼєкті отримайте значення його атрибуту, а на іншому викличте один з його методів."
      ],
      "metadata": {
        "id": "X_UlOMB0L93w"
      }
    },
    {
      "cell_type": "code",
      "source": [
        "house = Building(\"Korotka Street\", 147)\n",
        "house.information()"
      ],
      "metadata": {
        "id": "7gBu0ESOMCpG"
      },
      "execution_count": null,
      "outputs": []
    },
    {
      "cell_type": "markdown",
      "source": [
        "3. (5б). Створіть клас, де атрибути мають різні рівні доступу. Спробуйте отримати їхні значення та опишіть результати."
      ],
      "metadata": {
        "id": "HoqSCZt1MHn5"
      }
    },
    {
      "cell_type": "code",
      "source": [
        "class Supermarket:\n",
        "    def __init__(self, products, employees_count, revenue):\n",
        "        self.products = products\n",
        "        self._employees_count = employees_count\n",
        "        self.__revenue = revenue\n",
        "\n",
        "    def get_revenue(self):\n",
        "        return self.__revenue\n",
        "\n",
        "    def set_revenue(self, new_revenue):\n",
        "        if new_revenue >= 0:\n",
        "            self.__revenue = new_revenue\n",
        "        else:\n",
        "            print(\"Revenue cannot be negative\")\n",
        "\n",
        "market = Supermarket(\"everything for the kitchen\", 150, 100000)\n",
        "print(market.products)\n",
        "print(market._employees_count)\n",
        "\n",
        "print(market.get_revenue())\n",
        "\n",
        "market.set_revenue(120000)\n",
        "print(market.get_revenue())\n"
      ],
      "metadata": {
        "id": "r9b3vJxBMSPV",
        "colab": {
          "base_uri": "https://localhost:8080/"
        },
        "outputId": "d0930ab6-cded-49ce-a5f6-206efbef83b7"
      },
      "execution_count": 12,
      "outputs": [
        {
          "output_type": "stream",
          "name": "stdout",
          "text": [
            "everything for the kitchen\n",
            "150\n",
            "100000\n",
            "120000\n"
          ]
        }
      ]
    },
    {
      "cell_type": "markdown",
      "source": [
        "4. (7б). Як ви розумієте термін self? Для чого використовується метод __init __?"
      ],
      "metadata": {
        "id": "5op2m2vgMSkZ"
      }
    },
    {
      "cell_type": "markdown",
      "source": [
        "self це посилання на поточий обʼєкт.\n",
        "__init__ є конструктором класу, який сторюється дефолтно при створенні нового обʼєкта."
      ],
      "metadata": {
        "id": "DyiPqNRvMasx"
      }
    },
    {
      "cell_type": "markdown",
      "source": [
        "5. (9б). Створіть клас 3D-фігура без атрибутів, з методом get_volume для отримання об'єму фігури, що повертає 0 та __add __, який приймає self та other в якості аргументів, а повертає суму об'ємів 3d-фігур self та other."
      ],
      "metadata": {
        "id": "-6X8EGfjMd2y"
      }
    },
    {
      "cell_type": "code",
      "source": [
        "class ThreeDFigure:\n",
        "    def get_volume(self):\n",
        "     return 0\n",
        "\n",
        "    def __add__(self, other):\n",
        "        if isinstance(other, ThreeDFigure):\n",
        "            return self.get_volume() + other.get_volume()"
      ],
      "metadata": {
        "id": "4rvO_wYUMaEr"
      },
      "execution_count": 3,
      "outputs": []
    },
    {
      "cell_type": "markdown",
      "source": [
        "6. (11б). Створіть 2 дочірніх класи від 3d-фігура: Циліндр та Куб, які мають атрибути, необхідні для розрахунку об'єму. Визначте метод get_volume в кожному з них так, щоби вони розраховували об'єм у залежності від формули для кожного типу фігури. Створіть обʼєкт класу Циліндр та обʼєкт класу Куб. Виконайте операцію суми за допомогою оператора + між ними, аби знайти сумарний об'єм."
      ],
      "metadata": {
        "id": "SFcKnnv5Mo_z"
      }
    },
    {
      "cell_type": "code",
      "source": [
        "class Cylinder(ThreeDFigure):\n",
        "  def __init__(self, height, radius):\n",
        "    self.height = height\n",
        "    self.radius = radius\n",
        "\n",
        "  def get_volume(self):\n",
        "    return 3.14 * self.radius ** 2 * self.height\n",
        "\n",
        "class Cube(ThreeDFigure):\n",
        "  def __init__(self, lenght):\n",
        "    self.lenght = lenght\n",
        "  def get_volume(self):\n",
        "     return self.lenght ** 3\n",
        "\n",
        "cube = Cube(lenght = 3)\n",
        "cylinder = Cylinder(height = 13, radius = 5)\n",
        "\n",
        "sum = cylinder + cube\n",
        "\n",
        "print(f\"cylinder's volume: {cylinder.get_volume()}\")\n",
        "print(f\"cube's volume: {cube.get_volume()}\")\n",
        "print(f\"total volume: {sum}\")"
      ],
      "metadata": {
        "id": "H3GVNr69Muf3",
        "collapsed": true
      },
      "execution_count": null,
      "outputs": []
    },
    {
      "cell_type": "markdown",
      "source": [
        "7. (3б). Продемонструйте різницю між isinstance та issubclass."
      ],
      "metadata": {
        "id": "HCvR206YMvLK"
      }
    },
    {
      "cell_type": "code",
      "source": [
        "class BodyPart:\n",
        "    pass\n",
        "\n",
        "class Hand(BodyPart):\n",
        "    pass\n",
        "\n",
        "class Leg(BodyPart):\n",
        "    pass\n",
        "\n",
        "hand = Hand()\n",
        "print(isinstance(hand, Hand))\n",
        "print(isinstance(hand, BodyPart))\n",
        "print(isinstance(hand, Leg))\n",
        "\n",
        "print(issubclass(Hand, BodyPart))\n",
        "print(issubclass(Leg, BodyPart))\n",
        "print(issubclass(Hand, Leg))"
      ],
      "metadata": {
        "id": "L_V1bBvDM0GN",
        "colab": {
          "base_uri": "https://localhost:8080/"
        },
        "outputId": "c4ae5bb3-3a66-4f05-fd72-056c9429b318"
      },
      "execution_count": 4,
      "outputs": [
        {
          "output_type": "stream",
          "name": "stdout",
          "text": [
            "True\n",
            "True\n",
            "False\n",
            "True\n",
            "True\n",
            "False\n"
          ]
        }
      ]
    },
    {
      "cell_type": "markdown",
      "source": [
        "8. (13б). Створіть клас EWallet з приватними атрибутами balance та id. Реалізуйте методи поповнення та зняття коштів, забезпечивши належну інкапсуляцію. Підказка: використовуйте декоратори property та setter."
      ],
      "metadata": {
        "id": "jjsaBZ-iM0Qq"
      }
    },
    {
      "cell_type": "code",
      "source": [
        "class EWallet:\n",
        "    def __init__(self, id, balance):\n",
        "        self.__id = id\n",
        "        self.__balance = balance\n",
        "\n",
        "    @property\n",
        "    def balance(self):\n",
        "        return self.__balance\n",
        "\n",
        "    @balance.setter\n",
        "    def balance(self, sum):\n",
        "        if sum < 0:\n",
        "            raise ValueError(\"only positive balance\")\n",
        "        self.__balance = sum\n",
        "\n",
        "    @property\n",
        "    def id(self):\n",
        "        return self.__id\n",
        "\n",
        "    def deposit(self, sum):\n",
        "            if sum > 0:\n",
        "                self.__balance += sum\n",
        "                print(f\"putted {sum}, now balance is {self.__balance}\")\n",
        "            else:\n",
        "                print(\"not enough funds\")\n",
        "\n",
        "    def withdrawal(self, sum):\n",
        "            if 0 < sum <= self.__balance:\n",
        "                self.__balance -= sum\n",
        "                print(f\"withdrawaled of funds: {sum}, current balance: {self.__balance}\")\n",
        "\n",
        "wallet = EWallet(id = 5557, balance = 338)\n",
        "print(f\"ID: {wallet.id}\")\n",
        "print(f\"current balance: {wallet.balance}\")\n",
        "\n",
        "wallet.deposit(40)\n",
        "wallet.withdrawal(88)"
      ],
      "metadata": {
        "id": "xCvZ7lh8M7YA"
      },
      "execution_count": null,
      "outputs": []
    },
    {
      "cell_type": "markdown",
      "source": [
        "9. (11б). Створіть клас ShoppingCart, який містить список об'єктів типу Item. Реалізуйте методи для додавання айтемів, їх видалення та відображення списку айтемів."
      ],
      "metadata": {
        "id": "tIzL2SJTM8ft"
      }
    },
    {
      "cell_type": "code",
      "source": [
        "class Item:\n",
        "    def __init__(self, name, price):\n",
        "        self.name = name\n",
        "        self.price = price\n",
        "\n",
        "    def __str__(self):\n",
        "        return f\"{self.name}: ${self.price:.2f}\"\n",
        "\n",
        "class ShoppingCart:\n",
        "    def __init__(self):\n",
        "        self.items = []\n",
        "\n",
        "    def add_item(self, item):\n",
        "        if isinstance(item, Item):\n",
        "            self.items.append(item)\n",
        "            print(f\"Added {item.name} to the cart.\")\n",
        "        else:\n",
        "            raise TypeError(\"Only objects of type Item can be added.\")\n",
        "\n",
        "    def remove_item(self, item_name):\n",
        "        for item in self.items:\n",
        "            if item.name == item_name:\n",
        "                self.items.remove(item)\n",
        "                print(f\"Removed {item.name} from the cart.\")\n",
        "                return\n",
        "        print(f\"Item '{item_name}' not found in the cart.\")\n",
        "\n",
        "    def show_cart(self):\n",
        "        if not self.items:\n",
        "            print(\"The shopping cart is empty.\")\n",
        "        else:\n",
        "            print(\"Shopping Cart:\")\n",
        "            for item in self.items:\n",
        "                print(f\" - {item}\")\n",
        "            print(f\"Total: ${self.total_price():.2f}\")\n",
        "\n",
        "    def total_price(self):\n",
        "        return sum(item.price for item in self.items)\n",
        "\n",
        "cart = ShoppingCart()\n",
        "\n",
        "item1 = Item(\"Doll\", 30.00)\n",
        "item2 = Item(\"Car\", 45.00)\n",
        "item3 = Item(\"Ball\", 7.50)\n",
        "\n",
        "cart.add_item(item1)\n",
        "cart.add_item(item2)\n",
        "cart.add_item(item3)\n",
        "\n",
        "cart.show_cart()\n",
        "cart.remove_item(\"Car\")\n",
        "cart.show_cart()\n"
      ],
      "metadata": {
        "id": "HWxfJKLtNAUZ",
        "colab": {
          "base_uri": "https://localhost:8080/"
        },
        "outputId": "583b76db-15af-4bc1-879d-f19b0b4b8583"
      },
      "execution_count": 5,
      "outputs": [
        {
          "output_type": "stream",
          "name": "stdout",
          "text": [
            "Added Doll to the cart.\n",
            "Added Car to the cart.\n",
            "Added Ball to the cart.\n",
            "Shopping Cart:\n",
            " - Doll: $30.00\n",
            " - Car: $45.00\n",
            " - Ball: $7.50\n",
            "Total: $82.50\n",
            "Removed Car from the cart.\n",
            "Shopping Cart:\n",
            " - Doll: $30.00\n",
            " - Ball: $7.50\n",
            "Total: $37.50\n"
          ]
        }
      ]
    },
    {
      "cell_type": "markdown",
      "source": [
        "10. (13б). Створіть клас Vehicle з атрибутами brand (manufacturer) та production_age. Створіть ще один клас Engine з такими атрибутами, як type (ex. petrol) та size (volume, litres). Створіть клас Car, який успадковує обидва класи Vehicle та Engine. Продемонструйте використання множинної спадковості, створивши обʼєкт класу Car та отримавши mro для цього класу."
      ],
      "metadata": {
        "id": "lmV8pAwwNIqu"
      }
    },
    {
      "cell_type": "code",
      "source": [
        "class Vehicle:\n",
        "    def __init__(self, brand, production_year):\n",
        "        self.brand = brand\n",
        "        self.production_year = production_year\n",
        "\n",
        "    def get_vehicle_info(self):\n",
        "        return f\"Brand: {self.brand}, Production Year: {self.production_year}\"\n",
        "\n",
        "\n",
        "class Engine:\n",
        "    def __init__(self, engine_type, size):\n",
        "        self.engine_type = engine_type\n",
        "\n",
        "    def get_engine_info(self):\n",
        "        return f\"Engine Type: {self.engine_type}, Engine Size: {self.size}L\"\n",
        "\n",
        "\n",
        "class Car(Vehicle, Engine):\n",
        "    def __init__(self, brand, production_year, engine_type, size, model):\n",
        "        Vehicle.__init__(self, brand, production_year)\n",
        "        Engine.__init__(self, engine_type, size)\n",
        "        self.model = model\n",
        "\n",
        "    def get_car_info(self):\n",
        "        return (f\"{self.get_vehicle_info()}, Model: {self.model}, \"\n",
        "                f\"{self.get_engine_info()}\")\n",
        "\n",
        "\n",
        "car = Car(brand=\"Volvo\", production_year=2017, engine_type=\"diesel\", size=3.0, model=\"Xc 90\")\n",
        "print(car.get_car_info())\n",
        "print(Car.mro())\n"
      ],
      "metadata": {
        "id": "R49grKlWNPeN",
        "colab": {
          "base_uri": "https://localhost:8080/"
        },
        "outputId": "a0111d14-f3ec-473d-a5f9-c4d7d30be0cc"
      },
      "execution_count": 6,
      "outputs": [
        {
          "output_type": "stream",
          "name": "stdout",
          "text": [
            "Brand: Volvo, Production Year: 2017, Model: Xc 90, Engine Type: diesel, Engine Size: 3.0L\n",
            "[<class '__main__.Car'>, <class '__main__.Vehicle'>, <class '__main__.Engine'>, <class 'object'>]\n"
          ]
        }
      ]
    },
    {
      "cell_type": "markdown",
      "source": [
        "# II. Iterator"
      ],
      "metadata": {
        "id": "dIJyUiNBFG8G"
      }
    },
    {
      "cell_type": "markdown",
      "source": [
        "11. (4б). Визначте рядок(str) з 4ма різними за значенням символами. Створіть ітератор на основі цього рядка. Викличте 5 разів функцію next на ітераторі, 4ри перших з них огорніть у ф-цію print()."
      ],
      "metadata": {
        "id": "13vsm0NyKIzL"
      }
    },
    {
      "cell_type": "code",
      "source": [
        "string = \"@%&*\"\n",
        "\n",
        "string_iterator = iter(my_string)\n",
        "\n",
        "print(next(string_iterator))\n",
        "print(next(string_iterator))\n",
        "print(next(string_iterator))\n",
        "print(next(string_iterator))\n",
        "print(next(string_iterator))"
      ],
      "metadata": {
        "id": "81ntabAkKuz-",
        "colab": {
          "base_uri": "https://localhost:8080/",
          "height": 241
        },
        "outputId": "1040b310-f0de-40f9-e59d-bb9ab613e329"
      },
      "execution_count": 8,
      "outputs": [
        {
          "output_type": "stream",
          "name": "stdout",
          "text": [
            "@\n",
            "%\n",
            "&\n",
            "*\n"
          ]
        },
        {
          "output_type": "error",
          "ename": "StopIteration",
          "evalue": "",
          "traceback": [
            "\u001b[0;31m---------------------------------------------------------------------------\u001b[0m",
            "\u001b[0;31mStopIteration\u001b[0m                             Traceback (most recent call last)",
            "\u001b[0;32m<ipython-input-8-b441221cbe00>\u001b[0m in \u001b[0;36m<cell line: 0>\u001b[0;34m()\u001b[0m\n\u001b[1;32m      7\u001b[0m \u001b[0mprint\u001b[0m\u001b[0;34m(\u001b[0m\u001b[0mnext\u001b[0m\u001b[0;34m(\u001b[0m\u001b[0mstring_iterator\u001b[0m\u001b[0;34m)\u001b[0m\u001b[0;34m)\u001b[0m\u001b[0;34m\u001b[0m\u001b[0;34m\u001b[0m\u001b[0m\n\u001b[1;32m      8\u001b[0m \u001b[0mprint\u001b[0m\u001b[0;34m(\u001b[0m\u001b[0mnext\u001b[0m\u001b[0;34m(\u001b[0m\u001b[0mstring_iterator\u001b[0m\u001b[0;34m)\u001b[0m\u001b[0;34m)\u001b[0m\u001b[0;34m\u001b[0m\u001b[0;34m\u001b[0m\u001b[0m\n\u001b[0;32m----> 9\u001b[0;31m \u001b[0mprint\u001b[0m\u001b[0;34m(\u001b[0m\u001b[0mnext\u001b[0m\u001b[0;34m(\u001b[0m\u001b[0mstring_iterator\u001b[0m\u001b[0;34m)\u001b[0m\u001b[0;34m)\u001b[0m\u001b[0;34m\u001b[0m\u001b[0;34m\u001b[0m\u001b[0m\n\u001b[0m",
            "\u001b[0;31mStopIteration\u001b[0m: "
          ]
        }
      ]
    },
    {
      "cell_type": "markdown",
      "source": [
        "А що якщо викликати цю ж функцію на рядку?"
      ],
      "metadata": {
        "id": "aekWHGXOLRsO"
      }
    },
    {
      "cell_type": "code",
      "source": [
        "my_string = \"@%&*\"\n",
        "print(next(my_string))"
      ],
      "metadata": {
        "id": "mxATGsErLV1i",
        "colab": {
          "base_uri": "https://localhost:8080/",
          "height": 156
        },
        "outputId": "e633c27a-f581-45cd-e971-166fa0b5016a"
      },
      "execution_count": 9,
      "outputs": [
        {
          "output_type": "error",
          "ename": "TypeError",
          "evalue": "'str' object is not an iterator",
          "traceback": [
            "\u001b[0;31m---------------------------------------------------------------------------\u001b[0m",
            "\u001b[0;31mTypeError\u001b[0m                                 Traceback (most recent call last)",
            "\u001b[0;32m<ipython-input-9-0a4bd45299c7>\u001b[0m in \u001b[0;36m<cell line: 0>\u001b[0;34m()\u001b[0m\n\u001b[1;32m      1\u001b[0m \u001b[0mmy_string\u001b[0m \u001b[0;34m=\u001b[0m \u001b[0;34m\"@%&*\"\u001b[0m\u001b[0;34m\u001b[0m\u001b[0;34m\u001b[0m\u001b[0m\n\u001b[0;32m----> 2\u001b[0;31m \u001b[0mprint\u001b[0m\u001b[0;34m(\u001b[0m\u001b[0mnext\u001b[0m\u001b[0;34m(\u001b[0m\u001b[0mmy_string\u001b[0m\u001b[0;34m)\u001b[0m\u001b[0;34m)\u001b[0m\u001b[0;34m\u001b[0m\u001b[0;34m\u001b[0m\u001b[0m\n\u001b[0m",
            "\u001b[0;31mTypeError\u001b[0m: 'str' object is not an iterator"
          ]
        }
      ]
    },
    {
      "cell_type": "markdown",
      "source": [
        " 12. (5б). Опишіть своїми словами в одному реченні, як ви розумієте різницю між ітерабельними обʼєктами та ітераторами (можна на прикладі)."
      ],
      "metadata": {
        "id": "XwtMEopwJ4pH"
      }
    },
    {
      "cell_type": "markdown",
      "source": [
        "ітератор це обʼєкт, що зберігає свій стан і має next(), а ітерабельний є обʼєкт, по якому можна проходити"
      ],
      "metadata": {
        "id": "jCFQMb3HxliM"
      }
    },
    {
      "cell_type": "markdown",
      "source": [
        "13. (11б). Створіть клас, що має визначений Iterator Protocol та при кожному виклику next повертає назву дня тижня, поки вони не вичерпаються. Зверніть увагу, що порядок має значення."
      ],
      "metadata": {
        "id": "E9qJWmNbK8Gl"
      }
    },
    {
      "cell_type": "code",
      "source": [
        "class WeekdayIterator:\n",
        "    def __init__(self):\n",
        "        self.days = [\"Monday\", \"Tuesday\", \"Wednesday\", \"Thursday\", \"Friday\", \"Saturday\", \"Sunday\"]\n",
        "        self.index = 0\n",
        "\n",
        "    def __iter__(self):\n",
        "        return self\n",
        "\n",
        "    def __next__(self):\n",
        "        if self.index < len(self.days):\n",
        "            day = self.days[self.index]\n",
        "            self.index += 1\n",
        "            return day\n",
        "        else:\n",
        "            raise StopIteration\n",
        "\n",
        "weekday_iter = WeekdayIterator()\n",
        "for day in weekday_iter:\n",
        "    print(day)\n"
      ],
      "metadata": {
        "id": "cqx-g_RsLo6I",
        "colab": {
          "base_uri": "https://localhost:8080/"
        },
        "outputId": "0d1e6336-a7c1-4782-bec0-a5d7594ca354"
      },
      "execution_count": 10,
      "outputs": [
        {
          "output_type": "stream",
          "name": "stdout",
          "text": [
            "Monday\n",
            "Tuesday\n",
            "Wednesday\n",
            "Thursday\n",
            "Friday\n",
            "Saturday\n",
            "Sunday\n"
          ]
        }
      ]
    }
  ]
}